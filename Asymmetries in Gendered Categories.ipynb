{
 "cells": [
  {
   "cell_type": "markdown",
   "metadata": {},
   "source": [
    "# Marked Gender in Human Category Systems"
   ]
  },
  {
   "cell_type": "code",
   "execution_count": 1,
   "metadata": {},
   "outputs": [],
   "source": [
    "import re\n",
    "import pandas as pd\n",
    "import os\n",
    "import matplotlib.pyplot as plt \n",
    "import numpy as np\n",
    "import latextable as lt\n",
    "import texttable as tt\n",
    "from Code import process_lcsh\n",
    "from Code import marking_gender as gm\n",
    "from Code import plots\n",
    "\n",
    "import warnings\n",
    "warnings.filterwarnings('ignore')"
   ]
  },
  {
   "cell_type": "markdown",
   "metadata": {},
   "source": [
    "## LCSH\n",
    "\n",
    "### Load Data\n"
   ]
  },
  {
   "cell_type": "code",
   "execution_count": 2,
   "metadata": {},
   "outputs": [
    {
     "name": "stdout",
     "output_type": "stream",
     "text": [
      "There are 2,876 LCSH headings in total. 4 are ambiguous.\n"
     ]
    }
   ],
   "source": [
    "fp = os.path.join(os.path.abspath('Data/LCSH'))\n",
    "gendered_lcsh = process_lcsh.csv_to_dict(f'{fp}/lcsh-topics.csv', True)\n",
    "lcsh_m, lcsh_w, lcsh_a = gm.split_into_gendered(gendered_lcsh)\n",
    "total = len(lcsh_m) + len(lcsh_w)\n",
    "\n",
    "\n",
    "deprecated_gendered = process_lcsh.csv_to_dict(f'{fp}/lcsh-topics-deprecated.csv', True)\n",
    "deprecated_m, deprecated_w, deprecated_a = gm.split_into_gendered(deprecated_gendered)\n",
    "total_deprecated = len(deprecated_m) + len(deprecated_w)\n",
    "\n",
    "print(f'There are {total+len(lcsh_a):,} LCSH headings in total. {len(lcsh_a):,} are ambiguous.')"
   ]
  },
  {
   "cell_type": "markdown",
   "metadata": {},
   "source": [
    "I focus on the headings that are tagged as referring to either Women or Men, not both. "
   ]
  },
  {
   "cell_type": "code",
   "execution_count": 3,
   "metadata": {},
   "outputs": [
    {
     "name": "stdout",
     "output_type": "stream",
     "text": [
      "             Men   Women   Total\n",
      "================================\n",
      "Total        383   2500    2883 \n",
      "Deprecated    2      9      11  \n",
      "In Use       381   2491    2872 \n"
     ]
    }
   ],
   "source": [
    "table1 = tt.Texttable()\n",
    "table1.set_deco(tt.Texttable.HEADER)\n",
    "table1.set_cols_align(['l'] + ['c']*3)\n",
    "table1.set_cols_valign(['m']*4)\n",
    "table1.add_rows([['', 'Men', 'Women', 'Total'], \n",
    "                 ['Total', len(lcsh_m)+len(deprecated_m), len(lcsh_w)+len(deprecated_w), total+total_deprecated],\n",
    "                 ['Deprecated', len(deprecated_m), len(deprecated_w), total_deprecated], \n",
    "                 ['In Use', len(lcsh_m), len(lcsh_w), total] \n",
    "                 ])\n",
    "table = lt.draw_latex(table1, caption='Number of gendered headings in the LCSH retrieved using the list of key words in \\hyperref[tab:gendered-words]{Table 1}.', label='tab:term-counts', use_booktabs=True, caption_above=True)\n",
    "print(table1.draw())\n",
    "with open('Outputs/Tables/table1.tex', 'w') as f:\n",
    "    f.write(table)"
   ]
  },
  {
   "cell_type": "markdown",
   "metadata": {},
   "source": [
    "### Split into Cases\n",
    "Made up of different combinations of W, M, and G. Each letters being present in a case means...\n",
    "- W: a heading for women exists in the LCSH (i.e. women caregivers)\n",
    "- M: a heading for men exists the LCSH (i.e. male caregivers)\n",
    "- G: a generic parent heading exists in the LCSH (i.e. caregivers)"
   ]
  },
  {
   "cell_type": "code",
   "execution_count": 4,
   "metadata": {},
   "outputs": [
    {
     "name": "stdout",
     "output_type": "stream",
     "text": [
      "Cases   Counts\n",
      "==============\n",
      "  WMG   120   \n",
      "   WM   78    \n",
      "   WG   1660  \n",
      "   MG   88    \n",
      "    W   633   \n",
      "    M   95    \n",
      "Total   2674  \n"
     ]
    }
   ],
   "source": [
    "concept_pairs = gm.get_concept_idxs(lcsh_m, lcsh_w, 'heading')\n",
    "total_concepts = len(concept_pairs)\n",
    "categories = gm.split_into_categories(concept_pairs, gendered_lcsh, 'heading')\n",
    "\n",
    "wmg = [(categories['w'][i], categories['m'][i], categories['g'][i] ) for i in range(total_concepts) if categories['mInLCSH'][i] == 1 and categories['wInLCSH'][i] == 1 and categories['gInLCSH'][i] == 1]\n",
    "wm = [(categories['w'][i], categories['m'][i]) for i in range(total_concepts) if categories['mInLCSH'][i] == 1 and categories['wInLCSH'][i] == 1 and categories['gInLCSH'][i] == 0]\n",
    "wg = [(categories['w'][i], categories['g'][i]) for i in range(total_concepts) if categories['mInLCSH'][i] == 0 and categories['wInLCSH'][i] == 1 and categories['gInLCSH'][i] == 1]\n",
    "mg = [(categories['m'][i], categories['g'][i]) for i in range(total_concepts) if categories['mInLCSH'][i] == 1 and categories['wInLCSH'][i] == 0 and categories['gInLCSH'][i] == 1]\n",
    "w = [(categories['w'][i],) for i in range(total_concepts) if categories['mInLCSH'][i] == 0 and categories['wInLCSH'][i] == 1 and categories['gInLCSH'][i] == 0]\n",
    "m = [(categories['m'][i],) for i in range(total_concepts) if categories['mInLCSH'][i] == 1 and categories['wInLCSH'][i] == 0 and categories['gInLCSH'][i] == 0]\n",
    "\n",
    "\n",
    "table3 = tt.Texttable()\n",
    "table3.set_deco(tt.Texttable.HEADER)\n",
    "table3.set_cols_align(['r', 'l'])\n",
    "table3.add_rows([['Cases', 'Counts'],\n",
    "                 ['WMG', len(wmg)],\n",
    "                 ['WM', len(wm)],\n",
    "                 ['WG', len(wg)],\n",
    "                 ['MG', len(mg)],\n",
    "                 ['W', len(w)],\n",
    "                 ['M', len(m)],\n",
    "                 ['Total', total_concepts]\n",
    "                ])\n",
    "table = lt.draw_latex(table3, caption='Marked cases and their frequencies in the LCSH.', label='tab:markedness', use_booktabs=True, caption_above=True)\n",
    "print(table3.draw())\n",
    "with open('Outputs/Tables/table2.tex', 'w') as f:\n",
    "    f.write(table)"
   ]
  },
  {
   "cell_type": "markdown",
   "metadata": {},
   "source": [
    "Save each group of headings to a separate text file"
   ]
  },
  {
   "cell_type": "code",
   "execution_count": 5,
   "metadata": {},
   "outputs": [],
   "source": [
    "with open('Outputs/Category Lists/lcsh-wmg.txt', 'w') as f:\n",
    "    for triplet in wmg:\n",
    "        f.write(f'{triplet[0]};\\t{triplet[1]};\\t{triplet[2]}\\n')\n",
    "with open('Outputs/Category Lists/lcsh-wm.txt', 'w') as f:\n",
    "    for pair in wm:\n",
    "        f.write(f'{pair[0]};\\t{pair[1]}\\n')\n",
    "with open('Outputs/Category Lists/lcsh-wg.txt', 'w') as f:\n",
    "    for pair in wg:\n",
    "        f.write(f'{pair[0]};\\t{pair[1]}\\n')\n",
    "with open('Outputs/Category Lists/lcsh-mg.txt', 'w') as f:\n",
    "    for pair in mg:\n",
    "        f.write(f'{pair[0]};\\t{pair[1]}\\n')\n",
    "with open('Outputs/Category Lists/lcsh-w.txt', 'w') as f:\n",
    "    for item in w:\n",
    "        f.write(f'{item[0]}\\n')\n",
    "with open('Outputs/Category Lists/lcsh-m.txt', 'w') as f:\n",
    "    for item in m:\n",
    "        f.write(f'{item[0]}\\n')"
   ]
  },
  {
   "cell_type": "markdown",
   "metadata": {},
   "source": [
    "### Gender Asymmetry: \n",
    "The number of unpaired terms for women (w + wg) versus the number of unpaired terms for men (m + mg)"
   ]
  },
  {
   "cell_type": "code",
   "execution_count": 6,
   "metadata": {},
   "outputs": [
    {
     "name": "stdout",
     "output_type": "stream",
     "text": [
      "\n",
      "          %   \n",
      "==============\n",
      "Women   92.61%\n",
      "Men     7.39% \n"
     ]
    }
   ],
   "source": [
    "w_unbalanced = len(wg) + len(w)\n",
    "m_unablanced = len(mg) + len(m)\n",
    "total_unbalanced = w_unbalanced + m_unablanced\n",
    "\n",
    "table4 = tt.Texttable()\n",
    "table4.set_deco(tt.Texttable.HEADER)\n",
    "table4.set_cols_align(['l', 'l'])\n",
    "table4.add_rows([['', '%'],\n",
    "                 ['Women', f'{w_unbalanced/total_unbalanced:.2%}'],\n",
    "                 ['Men', f'{m_unablanced/total_unbalanced:.2%}']\n",
    "                ])\n",
    "\n",
    "print('')\n",
    "table = lt.draw_latex(table4, caption='Gender assymetry.', label='tab:markedness', use_booktabs=True, caption_above=True)\n",
    "print(table4.draw())\n",
    "with open('Outputs/Tables/table3.tex', 'w') as f:\n",
    "    f.write(table)"
   ]
  },
  {
   "cell_type": "markdown",
   "metadata": {},
   "source": [
    "### Gender Markedness: \n",
    "A concept is marked by gender if a gendered subcategory exists for one gender but not the other. Therefore I specifically look at the cases where a generic parent category exists in the LCSH but only one gendered subcategory exists (WG vs MG)"
   ]
  },
  {
   "cell_type": "code",
   "execution_count": 7,
   "metadata": {},
   "outputs": [
    {
     "name": "stdout",
     "output_type": "stream",
     "text": [
      "\n",
      "          %   \n",
      "==============\n",
      "Women   94.97%\n",
      "Men     5.03% \n"
     ]
    }
   ],
   "source": [
    "w_marked= len(wg) \n",
    "m_marked = len(mg)\n",
    "total_marked = w_marked + m_marked\n",
    "\n",
    "table4 = tt.Texttable()\n",
    "table4.set_deco(tt.Texttable.HEADER)\n",
    "table4.set_cols_align(['l', 'l'])\n",
    "table4.add_rows([['', '%'],\n",
    "                 ['Women', f'{w_marked/total_marked:.2%}'],\n",
    "                 ['Men', f'{m_marked/total_marked:.2%}']\n",
    "                ])\n",
    "\n",
    "print('')\n",
    "table = lt.draw_latex(table4, caption='Gender assymetry.', label='tab:markedness', use_booktabs=True, caption_above=True)\n",
    "print(table4.draw())\n",
    "with open('Outputs/Tables/table4.tex', 'w') as f:\n",
    "    f.write(table)"
   ]
  },
  {
   "cell_type": "markdown",
   "metadata": {},
   "source": [
    "There is a strong bias against women in the current version of the LCSH as it shows strong gender asymmetry and markedness. "
   ]
  },
  {
   "cell_type": "markdown",
   "metadata": {},
   "source": [
    "### Across Time\n",
    "The LCSH has not changed since the 90s if you look at the proportion of headings added each year"
   ]
  },
  {
   "cell_type": "code",
   "execution_count": 9,
   "metadata": {},
   "outputs": [
    {
     "data": {
      "image/png": "[encoded data removed]",
      "text/plain": [
       "<Figure size 1000x600 with 2 Axes>"
      ]
     },
     "metadata": {},
     "output_type": "display_data"
    }
   ],
   "source": [
    "plots.added_each_year(1990, 2023, lcsh_m, lcsh_w, 'Headings')\n"
   ]
  },
  {
   "cell_type": "markdown",
   "metadata": {},
   "source": [
    "The LCSH has also not changed since the 90s if you look at the asymmetry and markedness at different time points. "
   ]
  },
  {
   "cell_type": "code",
   "execution_count": 10,
   "metadata": {},
   "outputs": [
    {
     "name": "stdout",
     "output_type": "stream",
     "text": [
      "\n",
      "\tAsymmetry\t Markedness\n",
      "        % W     Total    % W     Total\n",
      "======================================\n",
      "1994   92.14%   967     95.77%   567  \n",
      "2004   93.13%   1731    95.53%   1185 \n",
      "2014   92.87%   2201    95.13%   1559 \n",
      "2024   92.61%   2476    94.97%   1748 \n"
     ]
    }
   ],
   "source": [
    "dates = [1994, 2004, 2014, 2024]\n",
    "diachronic_asymmetry, diachronic_markedness = gm.bias_across_time(dates, categories)\n",
    "table5 = tt.Texttable()\n",
    "table5.set_deco(tt.Texttable.HEADER)\n",
    "table5.set_cols_align(['l', 'l', 'l', 'l', 'l'])\n",
    "rows = [['', '% W', 'Total', '% W', 'Total']]\n",
    "for i in range(len(dates)):\n",
    "    total_asym = diachronic_asymmetry[i][0] + diachronic_asymmetry[i][1]\n",
    "    w_percent_asym = diachronic_asymmetry[i][0]/total_asym\n",
    "\n",
    "    total_marked = diachronic_markedness[i][0] + diachronic_markedness[i][1]\n",
    "    w_percent_marked = diachronic_markedness[i][0]/total_marked\n",
    "    row = [dates[i], f'{w_percent_asym:.2%}', total_asym, f'{w_percent_marked:.2%}', total_marked]\n",
    "    rows.append(row)\n",
    "table5.add_rows(rows)\n",
    "print('')\n",
    "caption = 'Asymmetry over time'\n",
    "label = 'tab:diachronic-asymmetry'\n",
    "table = lt.draw_latex(table5, caption, label, use_booktabs=True, caption_above=True)\n",
    "print(f'\\t{'Asymmetry'}\\t {'Markedness'}')\n",
    "print(table5.draw())"
   ]
  },
  {
   "cell_type": "markdown",
   "metadata": {},
   "source": [
    "## Syntactic Ngram\n",
    "\n",
    "### Load Data (2008)"
   ]
  },
  {
   "cell_type": "code",
   "execution_count": null,
   "metadata": {},
   "outputs": [],
   "source": [
    "df = pd.read_csv('Data/Syntactic Ngram/nouns_modified_by_gender.csv', sep='\\t')"
   ]
  },
  {
   "cell_type": "code",
   "execution_count": 11,
   "metadata": {},
   "outputs": [],
   "source": [
    "def get_gendered_ngrams(gram_list):\n",
    "    m_grams = [gram for gram in gram_list if '<M>' in gram]\n",
    "    w_grams = [gram for gram in gram_list if '<W>' in gram]\n",
    "    return m_grams, w_grams"
   ]
  },
  {
   "cell_type": "code",
   "execution_count": 12,
   "metadata": {},
   "outputs": [],
   "source": [
    "over_5 = df[df['FREQ'] >= 5]['PHRASE'].values\n",
    "over_10 = df[df['FREQ'] >= 10]['PHRASE'].values\n",
    "over_25 = df[df['FREQ'] >= 25]['PHRASE'].values\n",
    "over_50 = df[df['FREQ'] >= 50]['PHRASE'].values\n",
    "over_75 = df[df['FREQ'] >= 75]['PHRASE'].values\n",
    "over_100 = df[df['FREQ'] >= 100]['PHRASE'].values\n",
    "over_250 = df[df['FREQ'] >= 250]['PHRASE'].values\n",
    "over_500 = df[df['FREQ'] >= 500]['PHRASE'].values\n",
    "over_750 = df[df['FREQ'] >= 750]['PHRASE'].values\n",
    "over_1000 = df[df['FREQ'] >= 1000]['PHRASE'].values"
   ]
  },
  {
   "cell_type": "code",
   "execution_count": 13,
   "metadata": {},
   "outputs": [
    {
     "name": "stdout",
     "output_type": "stream",
     "text": [
      "['58%', '50%', '45%', '42%', '45%', '50%', '52%', '58%', '63%', '74%']\n"
     ]
    },
    {
     "data": {
      "image/png": "[encoded data removed]",
      "text/plain": [
       "<Figure size 1200x400 with 1 Axes>"
      ]
     },
     "metadata": {},
     "output_type": "display_data"
    }
   ],
   "source": [
    "w_props = []\n",
    "m_props = []\n",
    "total_counts = []\n",
    "percent_unbalanced = []\n",
    "for gram_list in [over_5, over_10, over_25, over_50, over_75, over_100, over_250, over_500, over_750, over_1000]:  \n",
    "    m_grams, w_grams = get_gendered_ngrams(gram_list)\n",
    "    no_M = {re.sub(r'<M>', '', gram):gram for gram in m_grams}\n",
    "    no_W = {re.sub(r'<W>', '', gram):gram for gram in w_grams}\n",
    "    m_unablanced = [(no_M[k], None) for k in set(no_M.keys()) - set(no_W.keys())]\n",
    "    w_unbalanced = [(None, no_W[k]) for k in set(no_W.keys()) - set(no_M.keys())]\n",
    "    wm = [(no_M[k], no_W[k]) for k in set(no_M.keys()) & set(no_W.keys())]\n",
    "    total_unbalanced = len(m_unablanced) + len(w_unbalanced)\n",
    "    total_counts.append(total_unbalanced)\n",
    "    w_props.append(len(w_unbalanced)/total_unbalanced)\n",
    "    m_props.append(len(m_unablanced)/total_unbalanced)\n",
    "    percent_unbalanced.append(f'{total_unbalanced/len(gram_list):.0%}')\n",
    "\n",
    "counts = {'Men': m_props, 'Women': w_props}\n",
    "fig, ax = plt.subplots(1, 1, figsize=(12, 4))\n",
    "x = ['5', '10', '25', '50', '75', '100', '250', '500', '750', '1000']\n",
    "plotStacked(ax, x, counts, ['goldenrod', 'rebeccapurple'], xLabel='Minimum Frequency', yLabel='% of Unpaired Categories', barLabels=total_counts)\n",
    "\n",
    "\n",
    "\n",
    "print(percent_unbalanced)"
   ]
  },
  {
   "cell_type": "code",
   "execution_count": 14,
   "metadata": {},
   "outputs": [],
   "source": [
    "df = pd.read_csv('Data/Syntactic Ngram/modified_mw.csv', sep='\\t')\n",
    "over_5 = df[df['FREQ'] >= 5]['PHRASE'].values\n",
    "over_10 = df[df['FREQ'] >= 10]['PHRASE'].values\n",
    "over_25 = df[df['FREQ'] >= 25]['PHRASE'].values\n",
    "over_50 = df[df['FREQ'] >= 50]['PHRASE'].values\n",
    "over_75 = df[df['FREQ'] >= 75]['PHRASE'].values\n",
    "over_100 = df[df['FREQ'] >= 100]['PHRASE'].values\n",
    "over_250 = df[df['FREQ'] >= 250]['PHRASE'].values\n",
    "over_500 = df[df['FREQ'] >= 500]['PHRASE'].values\n",
    "over_750 = df[df['FREQ'] >= 750]['PHRASE'].values\n",
    "over_1000 = df[df['FREQ'] >= 1000]['PHRASE'].values"
   ]
  },
  {
   "cell_type": "markdown",
   "metadata": {},
   "source": [
    "## Wikipedia"
   ]
  },
  {
   "cell_type": "code",
   "execution_count": null,
   "metadata": {},
   "outputs": [],
   "source": []
  },
  {
   "cell_type": "markdown",
   "metadata": {},
   "source": [
    "## TO DO\n",
    "1. Figure out what's going on with syntactic Ngram: come up with a set of cases that describe when mentioning men occurs more frequently than mentioning women and vice vera \n",
    "2. Finish wrangling my own set of Wikipedia data to preform same analyses as LCSH\n",
    "3. Look at syntactic Ngram across time "
   ]
  }
 ],
 "metadata": {
  "kernelspec": {
   "display_name": "Proj4",
   "language": "python",
   "name": "python3"
  },
  "language_info": {
   "codemirror_mode": {
    "name": "ipython",
    "version": 3
   },
   "file_extension": ".py",
   "mimetype": "text/x-python",
   "name": "python",
   "nbconvert_exporter": "python",
   "pygments_lexer": "ipython3",
   "version": "3.12.3"
  }
 },
 "nbformat": 4,
 "nbformat_minor": 2
}
